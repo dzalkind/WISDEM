{
 "cells": [
  {
   "cell_type": "code",
   "execution_count": 6,
   "metadata": {},
   "outputs": [],
   "source": [
    "\"\"\"\n",
    "A basic python notebook to read/write FAST Files and view outputs for tinkering and manual tuning\n",
    "\"\"\"\n",
    "# Hacky way of doing relative imports\n",
    "from __future__ import print_function\n",
    "import os, sys, time\n",
    "import multiprocessing as mp\n",
    "# sys.path.insert(0, os.path.abspath(\"..\"))\n",
    "\n",
    "from wisdem.aeroelasticse.FAST_reader import InputReader_Common, InputReader_OpenFAST, InputReader_FAST7\n",
    "from wisdem.aeroelasticse.FAST_writer import InputWriter_Common, InputWriter_OpenFAST, InputWriter_FAST7\n",
    "from wisdem.aeroelasticse.FAST_wrapper import FastWrapper\n",
    "from wisdem.aeroelasticse.runFAST_pywrapper import runFAST_pywrapper, runFAST_pywrapper_batch\n",
    "from wisdem.aeroelasticse.FAST_post import return_timeseries, return_stats\n",
    "import yaml \n",
    "import numpy as np"
   ]
  },
  {
   "cell_type": "code",
   "execution_count": 8,
   "metadata": {},
   "outputs": [
    {
     "output_type": "stream",
     "name": "stdout",
     "text": "Loading rotor performace data from text file: /Users/dzalkind/Tools/IEA-15-240-RWT/OpenFAST/IEA-15-240-RWT/Cp_Ct_Cq.IEA15MW.txt\nWriting rotor performance text file: temp/OpenFAST/test_run_float_Cp_Ct_Cq.txt\nWriting new controller parameter file parameter file: temp/OpenFAST/test_run_float_DISCON.IN.\nEXECUTING OpenFAST\nExecutable: \t openfast\nRun directory: \t temp/OpenFAST\nInput file: \t test_run_float.fst\nExec string: \t ['openfast', 'test_run_float.fst']\n"
    },
    {
     "output_type": "execute_result",
     "data": {
      "text/plain": "'temp/OpenFAST/test_run_float.outb'"
     },
     "metadata": {},
     "execution_count": 8
    }
   ],
   "source": [
    "# Select version of openfast you want to use\n",
    "\n",
    "FAST_ver = 'OpenFAST'\n",
    "dev_branch = True\n",
    "fast = runFAST_pywrapper(FAST_ver=FAST_ver, dev_branch=dev_branch, debug_level=2)\n",
    "\n",
    "if FAST_ver.lower() == 'openfast':\n",
    "\n",
    "    fast.FAST_exe          = 'openfast'   # Path to executable\n",
    "    fast.FAST_InputFile    = 'IEA-15-240-RWT-UMaineSemi.fst'   # FAST input file (ext=.fst)\n",
    "    fast.FAST_directory    = \"/Users/dzalkind/Tools/IEA-15-240-RWT/OpenFAST/IEA-15-240-RWT-UMaineSemi/\"   # Path to fst directory files\n",
    "    fast.FAST_runDirectory = 'temp/OpenFAST'\n",
    "\n",
    "    fast.FAST_namingOut = 'test_run_float'\n",
    "\n",
    "\n",
    "    fast.read_yaml = False\n",
    "    fast.FAST_yamlfile_in = 'temp/OpenFAST/test.yaml'\n",
    "\n",
    "    fast.write_yaml = False\n",
    "    fast.FAST_yamlfile_out = 'temp/OpenFAST/test.yaml'\n",
    "\n",
    "fast.execute()\n"
   ]
  },
  {
   "cell_type": "code",
   "execution_count": null,
   "metadata": {},
   "outputs": [],
   "source": []
  }
 ],
 "metadata": {
  "language_info": {
   "codemirror_mode": {
    "name": "ipython",
    "version": 3
   },
   "file_extension": ".py",
   "mimetype": "text/x-python",
   "name": "python",
   "nbconvert_exporter": "python",
   "pygments_lexer": "ipython3",
   "version": "3.7.6-final"
  },
  "orig_nbformat": 2,
  "kernelspec": {
   "name": "python37664bitwisdemenvconda50509453837343968f572e96337494c1",
   "display_name": "Python 3.7.6 64-bit ('wisdem-env': conda)"
  }
 },
 "nbformat": 4,
 "nbformat_minor": 2
}